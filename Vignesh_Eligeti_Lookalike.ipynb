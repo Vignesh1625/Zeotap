{
 "cells": [
  {
   "cell_type": "code",
   "execution_count": 2,
   "metadata": {},
   "outputs": [],
   "source": [
    "# Re-importing necessary libraries\n",
    "import pandas as pd\n",
    "from sklearn.metrics.pairwise import cosine_similarity\n",
    "from sklearn.preprocessing import StandardScaler"
   ]
  },
  {
   "cell_type": "code",
   "execution_count": 5,
   "metadata": {},
   "outputs": [],
   "source": [
    "\n",
    "# File paths\n",
    "customers_path = \"Customers.csv\"\n",
    "products_path = \"Products.csv\"\n",
    "transactions_path = \"Transactions.csv\"\n"
   ]
  },
  {
   "cell_type": "code",
   "execution_count": 6,
   "metadata": {},
   "outputs": [],
   "source": [
    "customers = pd.read_csv(customers_path)\n",
    "products = pd.read_csv(products_path)\n",
    "transactions = pd.read_csv(transactions_path)"
   ]
  },
  {
   "cell_type": "code",
   "execution_count": 7,
   "metadata": {},
   "outputs": [],
   "source": [
    "\n",
    "# Convert date columns to datetime format\n",
    "customers[\"SignupDate\"] = pd.to_datetime(customers[\"SignupDate\"])\n",
    "transactions[\"TransactionDate\"] = pd.to_datetime(transactions[\"TransactionDate\"])\n",
    "\n",
    "# Merge transaction and customer data\n",
    "customer_transactions = transactions.merge(customers, on=\"CustomerID\")\n",
    "\n"
   ]
  },
  {
   "cell_type": "code",
   "execution_count": 8,
   "metadata": {},
   "outputs": [],
   "source": [
    "# Aggregate transaction data per customer\n",
    "customer_features = customer_transactions.groupby(\"CustomerID\").agg(\n",
    "    total_spent=(\"TotalValue\", \"sum\"),\n",
    "    avg_quantity=(\"Quantity\", \"mean\"),\n",
    "    unique_products=(\"ProductID\", \"nunique\")\n",
    ").reset_index()\n",
    "\n"
   ]
  },
  {
   "cell_type": "code",
   "execution_count": 9,
   "metadata": {},
   "outputs": [],
   "source": [
    "# Add customer profile data (Region)\n",
    "customer_features = customer_features.merge(customers[[\"CustomerID\", \"Region\"]], on=\"CustomerID\")\n",
    "\n",
    "# Convert categorical variables (Region) into numerical form\n",
    "customer_features = pd.get_dummies(customer_features, columns=[\"Region\"], drop_first=True)\n",
    "\n",
    "# Standardize numerical features\n",
    "scaler = StandardScaler()\n",
    "features_scaled = scaler.fit_transform(customer_features.drop(columns=[\"CustomerID\"]))\n"
   ]
  },
  {
   "cell_type": "code",
   "execution_count": 10,
   "metadata": {},
   "outputs": [],
   "source": [
    "\n",
    "# Compute cosine similarity\n",
    "cosine_sim = cosine_similarity(features_scaled)\n",
    "\n",
    "# Create Lookalike recommendations\n",
    "lookalikes = {}\n",
    "customer_ids = customer_features[\"CustomerID\"].tolist()\n",
    "\n",
    "for i in range(20):  # For customers C0001 to C0020\n",
    "    cust_id = f\"C{str(i+1).zfill(4)}\"\n",
    "    if cust_id in customer_ids:\n",
    "        cust_idx = customer_ids.index(cust_id)\n",
    "        sim_scores = list(enumerate(cosine_sim[cust_idx]))\n",
    "        sim_scores = sorted(sim_scores, key=lambda x: x[1], reverse=True)[1:4]  # Exclude self, pick top 3\n",
    "        similar_customers = [(customer_ids[x[0]], round(x[1], 4)) for x in sim_scores]\n",
    "        lookalikes[cust_id] = similar_customers\n",
    "\n"
   ]
  },
  {
   "cell_type": "code",
   "execution_count": 11,
   "metadata": {},
   "outputs": [],
   "source": [
    "# Prepare DataFrame for Lookalike.csv\n",
    "lookalike_data = []\n",
    "for cust_id, similar_list in lookalikes.items():\n",
    "    for similar_cust, score in similar_list:\n",
    "        lookalike_data.append([cust_id, similar_cust, score])\n",
    "\n",
    "lookalike_df = pd.DataFrame(lookalike_data, columns=[\"CustomerID\", \"LookalikeID\", \"SimilarityScore\"])\n"
   ]
  },
  {
   "cell_type": "code",
   "execution_count": 13,
   "metadata": {},
   "outputs": [
    {
     "data": {
      "text/plain": [
       "'Vignesh_Elgeti_Lookalike.csv'"
      ]
     },
     "execution_count": 13,
     "metadata": {},
     "output_type": "execute_result"
    }
   ],
   "source": [
    "# Prepare DataFrame for Lookalike.csv\n",
    "lookalike_data = []\n",
    "for cust_id, similar_list in lookalikes.items():\n",
    "    for similar_cust, score in similar_list:\n",
    "        lookalike_data.append([cust_id, similar_cust, score])\n",
    "\n",
    "lookalike_df = pd.DataFrame(lookalike_data, columns=[\"CustomerID\", \"LookalikeID\", \"SimilarityScore\"])\n",
    "\n",
    "# Save results to CSV\n",
    "lookalike_csv_path = \"Vignesh_Elgeti_Lookalike.csv\"\n",
    "lookalike_df.to_csv(lookalike_csv_path, index=False)\n",
    "\n",
    "# Return path of generated file\n",
    "lookalike_csv_path\n"
   ]
  },
  {
   "cell_type": "code",
   "execution_count": null,
   "metadata": {},
   "outputs": [],
   "source": []
  },
  {
   "cell_type": "code",
   "execution_count": null,
   "metadata": {},
   "outputs": [],
   "source": []
  },
  {
   "cell_type": "code",
   "execution_count": null,
   "metadata": {},
   "outputs": [],
   "source": []
  },
  {
   "cell_type": "code",
   "execution_count": null,
   "metadata": {},
   "outputs": [],
   "source": []
  }
 ],
 "metadata": {
  "kernelspec": {
   "display_name": "Python 3",
   "language": "python",
   "name": "python3"
  },
  "language_info": {
   "codemirror_mode": {
    "name": "ipython",
    "version": 3
   },
   "file_extension": ".py",
   "mimetype": "text/x-python",
   "name": "python",
   "nbconvert_exporter": "python",
   "pygments_lexer": "ipython3",
   "version": "3.12.8"
  }
 },
 "nbformat": 4,
 "nbformat_minor": 2
}
